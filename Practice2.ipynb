{
  "nbformat": 4,
  "nbformat_minor": 0,
  "metadata": {
    "colab": {
      "name": "Practice2.ipynb",
      "provenance": [],
      "collapsed_sections": [],
      "authorship_tag": "ABX9TyNo778ggS5HD1xFDz2WL0xP",
      "include_colab_link": true
    },
    "kernelspec": {
      "display_name": "Python 3",
      "name": "python3"
    },
    "language_info": {
      "name": "python"
    }
  },
  "cells": [
    {
      "cell_type": "markdown",
      "metadata": {
        "id": "view-in-github",
        "colab_type": "text"
      },
      "source": [
        "<a href=\"https://colab.research.google.com/github/meghanachunduru22/19WH1A1246_2023/blob/master/Practice2.ipynb\" target=\"_parent\"><img src=\"https://colab.research.google.com/assets/colab-badge.svg\" alt=\"Open In Colab\"/></a>"
      ]
    },
    {
      "cell_type": "code",
      "metadata": {
        "colab": {
          "base_uri": "https://localhost:8080/"
        },
        "id": "KNhCo5N6egGc",
        "outputId": "5186e7df-7122-44fe-911b-03fefa986145"
      },
      "source": [
        "class Solution:\n",
        "    def maximumScore(self, N, cost1, cost2, values, labels):\n",
        "        i = N-1\n",
        "        while(i>=0):\n",
        "            if values[i] <= 0:\n",
        "                p1 = values.pop(i)\n",
        "                p2 = labels.pop(i)\n",
        "            i = i-1\n",
        "        if len(values) == 0:\n",
        "            return 0\n",
        "        ans = cost1*values[0]\n",
        "        for i in range(1,len(values)):\n",
        "            if labels[i] == labels[i-1]:\n",
        "                ans+= cost2*values[i]\n",
        "            else:\n",
        "                ans += cost1*values[i]\n",
        "        return ans\n",
        "# Code here\n",
        "print(maximumScore(4,2,3,[-1, -2, -6, -1 ],[ 1, 2, 2, 3 ]))"
      ],
      "execution_count": null,
      "outputs": [
        {
          "name": "stdout",
          "output_type": "stream",
          "text": [
            "0\n"
          ]
        }
      ]
    },
    {
      "cell_type": "code",
      "metadata": {
        "colab": {
          "base_uri": "https://localhost:8080/"
        },
        "id": "CV5NS0ZJhpd4",
        "outputId": "546b2f00-2397-4916-86cd-9aefc7bf24eb"
      },
      "source": [
        "for i in range(1,2):\n",
        "  print(i)"
      ],
      "execution_count": null,
      "outputs": [
        {
          "name": "stdout",
          "output_type": "stream",
          "text": [
            "1\n"
          ]
        }
      ]
    },
    {
      "cell_type": "code",
      "metadata": {
        "colab": {
          "base_uri": "https://localhost:8080/"
        },
        "id": "pkmVpz3N4axt",
        "outputId": "e5c9f230-2eab-452c-ed3e-009092a935ea"
      },
      "source": [
        "n = int(input())\n",
        "m = int(input())\n",
        "pos = []\n",
        "times = []\n",
        "for i in range(n):\n",
        "  pos.append(int(input()))\n",
        "for i in range(n):\n",
        "  times.append(int(input()))\n",
        "coins = 0\n",
        "current = 0\n",
        "i = 0\n",
        "current_time = 0\n",
        "\n",
        "while(current_time < m):\n",
        "  current += 1\n",
        "  #m -= 1\n",
        "  current_time += 1\n",
        "  if pos[i] == current:\n",
        "    \n",
        "    if current_time == times[i]:\n",
        "\n",
        "      coins += 1\n",
        "\n",
        "    else:\n",
        "      current_time += (times[i]-current_time)+1\n",
        "      if current_time > m:\n",
        "        break\n",
        "      else:\n",
        "        coins += 1\n",
        "    i+=1\n",
        "print(coins)\n",
        "  \n",
        "\n"
      ],
      "execution_count": null,
      "outputs": [
        {
          "name": "stdout",
          "output_type": "stream",
          "text": [
            "1\n",
            "1\n",
            "1\n",
            "2\n",
            "0\n"
          ]
        }
      ]
    },
    {
      "cell_type": "code",
      "metadata": {
        "colab": {
          "base_uri": "https://localhost:8080/"
        },
        "id": "_hT0sPNuPvvg",
        "outputId": "20b24944-2f17-47ed-9419-d3f21c607c84"
      },
      "source": [
        "for _ in range(int(input())):\n",
        "  strn = input()\n",
        "  vow = ['A','E','I','O','U']\n",
        "  vows = 0\n",
        "  n = len(strn)\n",
        "  count ={}\n",
        "  for i in strn:\n",
        "    if i in vow:\n",
        "      vows += 1\n",
        "    if i in count:\n",
        "      count[i] += 1\n",
        "    else:\n",
        "      count[i] = 1\n",
        "  cons = n-vows\n",
        "  if vows > cons:\n",
        "    \n",
        "  if cons > 1 and vows > 1:\n",
        "    print(\"Case #\",_+1,\":\",n+1)\n",
        "\n",
        "  if cons == 0 or vows == 0:\n",
        "    print(n)\n",
        "  if cons == 1:\n",
        "    for i in count:\n",
        "      if i not in vow:\n",
        "        print(\"Case #\",_+1,\":\",n-count[i])\n",
        "  elif vows == 1:\n",
        "    for i in count:\n",
        "      if i in vow:\n",
        "        print(\"Case #\"+str(_+1)+\":\",n-count[i])\n"
      ],
      "execution_count": null,
      "outputs": [
        {
          "name": "stdout",
          "output_type": "stream",
          "text": [
            "1\n",
            "FOXEN\n",
            "Case # 1 : 6\n"
          ]
        }
      ]
    },
    {
      "cell_type": "code",
      "metadata": {
        "id": "_HDxhNgrf4aF"
      },
      "source": [
        "def equal(A):\n",
        "    n = len(A)\n",
        "    nums = {}\n",
        "    d = []\n",
        "    for i in range(n-1):\n",
        "        for j in range(i+1, n):\n",
        "            a = A[i] + A[j]\n",
        "            if a in nums.keys():\n",
        "                d.append([nums[a][0], nums[a][1], i, j])\n",
        "            else:\n",
        "                nums[a] = [i,j]\n",
        "    d.sort()\n",
        "    for i in range(len(d)):\n",
        "        if d[i][0] < d[i][1] and d[i][2] < d[i][3] and d[i][1] < d[i][3] and d[i][0]!=d[i][2] and d[i][1]!=d[i][2]:\n",
        "            return d[i] \n",
        "    return []"
      ],
      "execution_count": null,
      "outputs": []
    },
    {
      "cell_type": "code",
      "metadata": {
        "id": "tqUe6w9ISJVa"
      },
      "source": [
        "def dfs(binaryMatrix, row, col, x, y):\n",
        "  if binaryMatrix[x][y] == 0:\n",
        "    return\n",
        "  binaryMatrix[x][y] = 0\n",
        "  if x != 0:\n",
        "    dfs(binaryMatrix, row, col, x-1, y)\n",
        "  if x != row -1:\n",
        "    dfs(binaryMatrix, row, col, x+1, y)\n",
        "  if y != 0:\n",
        "    dfs(binaryMatrix, row, col, x, y-1)\n",
        "  if y != col-1:\n",
        "    dfs(binaryMatrix, row, col, x, y+1)\n",
        "def get_number_of_islands(binaryMatrix):\n",
        "  \n",
        "  row = len(binaryMatrix)\n",
        "  col = len(binaryMatrix[0])\n",
        "  count = 0\n",
        "  for i in range(row):\n",
        "    for j in range(col):\n",
        "      if binaryMatrix[i][j] == 1:\n",
        "\n",
        "        dfs(binaryMatrix, row, col, i, j)\n",
        "        count += 1\n",
        "  return count"
      ],
      "execution_count": null,
      "outputs": []
    },
    {
      "cell_type": "code",
      "metadata": {
        "colab": {
          "base_uri": "https://localhost:8080/"
        },
        "id": "dNKk62VDomV0",
        "outputId": "6156f5ac-7e8a-4f00-e225-7d1c1671d685"
      },
      "source": [
        "#Pascals Triangle\n",
        "n = int(input())\n",
        "prev_len = 1\n",
        "prev = [1,1]\n",
        "out = []\n",
        "for i in range(2,n):\n",
        "  new = [1]\n",
        "  new_len = 1\n",
        "  i = 1\n",
        "  while True:\n",
        "    if new_len >= prev_len or i >= prev_len:\n",
        "      new.append(1)\n",
        "      new_len += 1\n",
        "      break\n",
        "    else:\n",
        "      new.append(prev[i-1]+prev[i])\n",
        "      new_len += 1\n",
        "    i+=1 \n",
        "    #print(new,i)\n",
        "  prev_len = new_len\n",
        "  prev = new\n",
        "  out.append(new)\n",
        "print(out)"
      ],
      "execution_count": null,
      "outputs": [
        {
          "output_type": "stream",
          "name": "stdout",
          "text": [
            "10\n",
            "[[1, 1], [1, 2, 1], [1, 3, 3, 1], [1, 4, 6, 4, 1], [1, 5, 10, 10, 5, 1], [1, 6, 15, 20, 15, 6, 1], [1, 7, 21, 35, 35, 21, 7, 1], [1, 8, 28, 56, 70, 56, 28, 8, 1]]\n"
          ]
        }
      ]
    },
    {
      "cell_type": "code",
      "metadata": {
        "colab": {
          "base_uri": "https://localhost:8080/"
        },
        "id": "cOS25jdwomil",
        "outputId": "39ae7bcc-4aa7-467b-a50e-25db3f8fb203"
      },
      "source": [
        "arr = [0, 1, 1, 0, 1, 2, 1, 2, 0, 0, 0, 1]\n",
        "low = 0\n",
        "mid = 0\n",
        "high = len(arr)-1\n",
        "while(mid <= high):\n",
        "  if arr[mid] == 0:\n",
        "    arr[low], arr[mid] = arr[mid], arr[low]\n",
        "    low += 1\n",
        "    mid += 1\n",
        "  elif arr[mid] == 1:\n",
        "    mid += 1\n",
        "  elif arr[mid] == 2:\n",
        "    arr[mid] ,arr[high] = arr[high], arr[mid]\n",
        "    high -= 1\n",
        "  \n",
        "print(arr)"
      ],
      "execution_count": null,
      "outputs": [
        {
          "name": "stdout",
          "output_type": "stream",
          "text": [
            "[0, 0, 0, 0, 0, 1, 1, 1, 1, 1, 2, 2]\n"
          ]
        }
      ]
    },
    {
      "cell_type": "code",
      "metadata": {
        "colab": {
          "base_uri": "https://localhost:8080/"
        },
        "id": "ITb8Cqr1omtm",
        "outputId": "fa08bbfe-619f-4484-93d0-50af960d969c"
      },
      "source": [
        "from queue import Queue\n",
        "q = Queue()\n",
        "q.put(1)\n",
        "q.put(2)\n",
        "q.put(3)\n",
        "print(q.full())\n",
        "print(q.qsize())\n",
        "print(q.get())\n",
        "from queue import LifoQueue\n",
        "s = LifoQueue()\n",
        "s.put(\"a\")\n",
        "s.put(\"b\")\n",
        "s.put(\"c\")\n",
        "print(s.get())\n",
        "print(s.qsize())\n",
        "print(s.full())\n",
        "from collections import deque\n",
        "st = deque()\n",
        "st.append(\"e\")\n",
        "st.append(\"f\")\n",
        "st.append(\"g\")\n",
        "print(st.pop())"
      ],
      "execution_count": null,
      "outputs": [
        {
          "name": "stdout",
          "output_type": "stream",
          "text": [
            "False\n",
            "3\n",
            "1\n",
            "c\n",
            "2\n",
            "False\n",
            "g\n"
          ]
        }
      ]
    },
    {
      "cell_type": "code",
      "metadata": {
        "id": "vCB0pwwWomxD"
      },
      "source": [
        "class Node:\n",
        "  def _init_(self,leftchild = None,rightchild= None):\n",
        "    self.left = leftchild\n",
        "    self.right = rightchild\n",
        "a = Node()\n",
        "\n"
      ],
      "execution_count": null,
      "outputs": []
    },
    {
      "cell_type": "code",
      "metadata": {
        "colab": {
          "base_uri": "https://localhost:8080/"
        },
        "id": "Y30srRoKoDfK",
        "outputId": "16a7929c-778a-4de0-faf1-b1469e0dacb6"
      },
      "source": [
        "def migratoryBirds(arr):\n",
        "    counts = {}\n",
        "    present_max = 0\n",
        "    for i in range(len(arr)):\n",
        "        if arr[i] in counts:\n",
        "            counts[arr[i]][1] += 1\n",
        "        else:\n",
        "            counts[arr[i]] = [i,1]\n",
        "        #print(i)\n",
        "        if counts[arr[i]][0] > counts[arr[present_max]][0]:\n",
        "            present_max = i\n",
        "        elif counts[arr[i]][1] == counts[arr[present_max]][1] and counts[arr[i]][0] < present_max:\n",
        "            print(\"hi\",i,arr[i])\n",
        "            present_max = i\n",
        "\n",
        "            \n",
        "        \n",
        "        print(counts,arr[present_max])\n",
        "    return present_max\n",
        "\n",
        "migratoryBirds([1, 2, 3, 4, 5, 4, 3, 2, 1, 3, 4])"
      ],
      "execution_count": null,
      "outputs": [
        {
          "name": "stdout",
          "output_type": "stream",
          "text": [
            "{1: [0, 1]} 1\n",
            "{1: [0, 1], 2: [1, 1]} 2\n",
            "{1: [0, 1], 2: [1, 1], 3: [2, 1]} 3\n",
            "{1: [0, 1], 2: [1, 1], 3: [2, 1], 4: [3, 1]} 4\n",
            "{1: [0, 1], 2: [1, 1], 3: [2, 1], 4: [3, 1], 5: [4, 1]} 5\n",
            "{1: [0, 1], 2: [1, 1], 3: [2, 1], 4: [3, 2], 5: [4, 1]} 5\n",
            "{1: [0, 1], 2: [1, 1], 3: [2, 2], 4: [3, 2], 5: [4, 1]} 5\n",
            "{1: [0, 1], 2: [1, 2], 3: [2, 2], 4: [3, 2], 5: [4, 1]} 5\n",
            "{1: [0, 2], 2: [1, 2], 3: [2, 2], 4: [3, 2], 5: [4, 1]} 5\n",
            "{1: [0, 2], 2: [1, 2], 3: [2, 3], 4: [3, 2], 5: [4, 1]} 5\n",
            "{1: [0, 2], 2: [1, 2], 3: [2, 3], 4: [3, 3], 5: [4, 1]} 5\n"
          ]
        },
        {
          "data": {
            "text/plain": [
              "4"
            ]
          },
          "execution_count": 16,
          "metadata": {},
          "output_type": "execute_result"
        }
      ]
    },
    {
      "cell_type": "code",
      "metadata": {
        "colab": {
          "base_uri": "https://localhost:8080/",
          "height": 35
        },
        "id": "U7QjHk21oDhw",
        "outputId": "3db47f17-ddf1-4c1a-854d-546feeb117e1"
      },
      "source": [
        "def containsDuplicate( nums) :\n",
        "    a = set()\n",
        "    for i in range(len(nums)):\n",
        "        if nums[i] in a:\n",
        "            return \"true\"\n",
        "        else:\n",
        "            a.add(nums[i])\n",
        "    return \"false\"\n",
        "containsDuplicate([1,2,3,4])"
      ],
      "execution_count": null,
      "outputs": [
        {
          "data": {
            "application/vnd.google.colaboratory.intrinsic+json": {
              "type": "string"
            },
            "text/plain": [
              "'false'"
            ]
          },
          "execution_count": 3,
          "metadata": {},
          "output_type": "execute_result"
        }
      ]
    },
    {
      "cell_type": "code",
      "metadata": {
        "id": "U1LADPvroDkG"
      },
      "source": [
        "    def maxSubArray2(self, nums: List[int]) -> int:\n",
        "        # Divide and Conquer\n",
        "        return self.max_Sub_Array(nums, 0, len(nums)-1)\n",
        "    \n",
        "    def max_Sub_Array(self, nums: List[int], l: int, r: int) -> int:\n",
        "        if l == r: return nums[l]\n",
        "        mid = l + (r - l) // 2\n",
        "        left_sum = self.max_Sub_Array(nums, l, mid)\n",
        "        right_sum = self.max_Sub_Array(nums, mid+1, r)\n",
        "        cross_sum = self.max_Cross_Sub_Array(nums, l, r, mid)\n",
        "        print(left_sum,right_sum,cross_sum)\n",
        "        return max(left_sum, right_sum, cross_sum)\n",
        "    \n",
        "    def max_Cross_Sub_Array(self, nums: List[int], l: int, r: int, mid: int) -> int:\n",
        "        \n",
        "        left_sum = nums[mid]\n",
        "        right_sum = nums[mid+1]\n",
        "\n",
        "        cross_sum = 0\n",
        "        for i in range(mid, l-1, -1):\n",
        "            cross_sum += nums[i]\n",
        "            left_sum = max(left_sum, cross_sum)v"
      ],
      "execution_count": null,
      "outputs": []
    },
    {
      "cell_type": "code",
      "metadata": {
        "colab": {
          "base_uri": "https://localhost:8080/"
        },
        "id": "kdeCNGqroDnD",
        "outputId": "bac7b32e-c476-46a0-f2de-5718b24f20be"
      },
      "source": [
        "#Kadane's Algorithm - Max sub array sum\n",
        "arr = [-2,1,-3,4,-1,2,1,-5,4]\n",
        "current_sum = 0\n",
        "max_sum = arr[0]\n",
        "for i in range(len(arr)):\n",
        "  current_sum += arr[i]\n",
        "  if current_sum > max_sum:\n",
        "    max_sum = current_sum\n",
        "  if current_sum < 0:\n",
        "    current_sum = 0\n",
        "print(max_sum)"
      ],
      "execution_count": null,
      "outputs": [
        {
          "name": "stdout",
          "output_type": "stream",
          "text": [
            "6\n"
          ]
        }
      ]
    },
    {
      "cell_type": "code",
      "metadata": {
        "id": "KuS9cYXZmVtn"
      },
      "source": [
        "class Solution(object):\n",
        "    def twoSum(self, nums, target):\n",
        "        if len(nums) <= 1:\n",
        "            return False\n",
        "        buff_dict = {}\n",
        "        for i in range(len(nums)):\n",
        "            if nums[i] in buff_dict:\n",
        "                return [buff_dict[nums[i]], i]\n",
        "            else:\n",
        "                buff_dict[target - nums[i]] = i"
      ],
      "execution_count": null,
      "outputs": []
    },
    {
      "cell_type": "code",
      "metadata": {
        "colab": {
          "base_uri": "https://localhost:8080/"
        },
        "id": "jPIHGhjLpclW",
        "outputId": "eb920efe-4442-4974-ac4e-aefd7df2f7df"
      },
      "source": [
        "def merge(nums1,nums2):\n",
        "  temp = nums1[:-(len(nums2))]\n",
        "  i = 0\n",
        "  j = 0\n",
        "  if len(nums2) == 0:\n",
        "    return nums1\n",
        "  if len(nums1) == len(nums2):\n",
        "    return nums2\n",
        "  for p in range(len(nums1)):\n",
        "    if i >= len(temp):\n",
        "      nums1[p] = nums2[j]\n",
        "      j+=1\n",
        "    elif j >= len(nums2):\n",
        "      nums1[p] = temp[i]\n",
        "      i+=1        \n",
        "    elif temp[i] <= nums2[j]:\n",
        "      nums1[p] = temp[i]\n",
        "      i+=1\n",
        "    else:\n",
        "      nums1[p] = nums2[j]\n",
        "      j+=1\n",
        "  return nums1\n",
        "print(merge([0],[1]))\n"
      ],
      "execution_count": null,
      "outputs": [
        {
          "output_type": "stream",
          "name": "stdout",
          "text": [
            "[1]\n"
          ]
        }
      ]
    },
    {
      "cell_type": "code",
      "metadata": {
        "colab": {
          "base_uri": "https://localhost:8080/"
        },
        "id": "NIb6eBJoQj6c",
        "outputId": "7e679db2-8d1c-4bce-f9b6-6d3daff4a7e2"
      },
      "source": [
        "l = ['0','1','2','3','4','5','6','7','8','9','a','b','c','d','e','f','g','h','i','j','k','l','m','n','o','p','q','r','s','t','u','v','w','x','y','z']\n",
        "s = set('7895interdisciplinary12')\n",
        "out = ''\n",
        "for i in l:\n",
        "  if i not in s:\n",
        "    out += i\n",
        "print(out)\n"
      ],
      "execution_count": null,
      "outputs": [
        {
          "output_type": "stream",
          "name": "stdout",
          "text": [
            "0346bfghjkmoquvwxz\n"
          ]
        }
      ]
    },
    {
      "cell_type": "code",
      "metadata": {
        "colab": {
          "base_uri": "https://localhost:8080/"
        },
        "id": "M9vx1BnAef5v",
        "outputId": "c66031d7-9057-40ec-9698-ec65a7bcebe7"
      },
      "source": [
        "def checkInclusion(s1,s2):\n",
        "    if len(s1) == 1:\n",
        "        if s1[0] in s2:\n",
        "          return True\n",
        "        else:\n",
        "          return False\n",
        "    l = 0\n",
        "    r = 1\n",
        "    dic1 = {}\n",
        "    dic2 = {}\n",
        "    for i in range(len(s1)):\n",
        "        if s1[i] not in dic1:\n",
        "            dic1[s1[i]] = 1    \n",
        "        else:\n",
        "            dic1[s1[i]] += 1\n",
        "    print(dic1)\n",
        "    while(r<len(s2)):\n",
        "        if s2[l] not in dic1:\n",
        "            l+=1\n",
        "            print(l,r)\n",
        "        else:\n",
        "            #print(l,r)\n",
        "            if not tocontinue:\n",
        "                dic2 = {s2[l]:1}\n",
        "            \n",
        "            breaked = False\n",
        "            while ((r-l+1) <= len(s1)) and r<len(s2):\n",
        "                #print(dic2)\n",
        "                if s2[r] not in dic1:\n",
        "                    l+=1\n",
        "                    r = l\n",
        "                    \n",
        "                    breaked = True\n",
        "                    break\n",
        "                if s2[r] not in dic2:   \n",
        "                    dic2[s2[r]] = 1\n",
        "                else:\n",
        "                    dic2[s2[r]] += 1\n",
        "                r+=1\n",
        "                \n",
        "            if not breaked:\n",
        "                done = False\n",
        "                for i in dic1:\n",
        "                    if i not in dic2:\n",
        "                        done = True\n",
        "                        break                          \n",
        "                    if dic1[i] != dic2[i] :\n",
        "                        done = True\n",
        "                        break\n",
        "                if not done:\n",
        "                    return True\n",
        "                else:\n",
        "                    tocontinue = True\n",
        "                    dic2[s2[l]] -= 1\n",
        "                    l += 1\n",
        "                    r = l\n",
        "\n",
        "        r+=1            \n",
        "    return False\n",
        "print(checkInclusion(\"ab\",\"eidbaooo\"))"
      ],
      "execution_count": null,
      "outputs": [
        {
          "output_type": "stream",
          "name": "stdout",
          "text": [
            "{'a': 1, 'b': 1}\n",
            "1 1\n",
            "2 2\n",
            "3 3\n",
            "True\n"
          ]
        }
      ]
    },
    {
      "cell_type": "code",
      "metadata": {
        "id": "5DGwlyStPPl0",
        "colab": {
          "base_uri": "https://localhost:8080/"
        },
        "outputId": "df7eb943-c928-4bca-e9da-c14743d11f8a"
      },
      "source": [
        "def plusOne(A):\n",
        "\n",
        "    x = 0\n",
        "    while A[x] == 0:\n",
        "        x+=1\n",
        "    if A[-1] < 9  and x < n-1:\n",
        "        A[-1] += 1\n",
        "        return A[x:]\n",
        "    n = len(A)\n",
        "    i = n-1\n",
        "    num = 0\n",
        "    for i in range(x,n):\n",
        "        num = num*10 + A[i]\n",
        "        i-=1\n",
        "    num+=1\n",
        "    new = []\n",
        "\n",
        "    while(num>0):\n",
        "        new.append(num%10)\n",
        "        num//=10\n",
        "\n",
        "    return new[::-1]\n",
        "print(plusOne([ 0, 3, 7, 6, 4, 0, 5, 5, 5 ]))"
      ],
      "execution_count": null,
      "outputs": [
        {
          "output_type": "stream",
          "name": "stdout",
          "text": [
            "[3, 7, 6, 4, 0, 5, 5, 6]\n"
          ]
        }
      ]
    },
    {
      "cell_type": "code",
      "metadata": {
        "id": "6ir_74ABPPxE",
        "colab": {
          "base_uri": "https://localhost:8080/"
        },
        "outputId": "2b484677-f7c0-47c1-b706-4f42e3e12c6e"
      },
      "source": [
        "def findpivot(arr,l,h):\n",
        "  if l<h:\n",
        "    if arr[l] < arr[h]:\n",
        "      return h\n",
        "    else:\n",
        "      m = (l+h)//2\n",
        "      print(arr[l],arr[m],arr[h])\n",
        "      \n",
        "      if arr[l] <= arr[m]:\n",
        "        if l == m:\n",
        "          return l\n",
        "        return findpivot(arr,m,h)\n",
        "      else:\n",
        "        if m == l+1:\n",
        "          return l\n",
        "        return findpivot(arr,l,m) \n",
        "  return h\n",
        "print(findpivot([1,2,3,4,5,6,7,8,9],0,8))"
      ],
      "execution_count": null,
      "outputs": [
        {
          "output_type": "stream",
          "name": "stdout",
          "text": [
            "8\n"
          ]
        }
      ]
    }
  ]
}